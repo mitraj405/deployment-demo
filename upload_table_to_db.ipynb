{
 "cells": [
  {
   "cell_type": "code",
   "execution_count": 1,
   "metadata": {},
   "outputs": [
    {
     "ename": "SQLiteCloudException",
     "evalue": "An error occurred while reading command length from the socket.",
     "output_type": "error",
     "traceback": [
      "\u001b[1;31m---------------------------------------------------------------------------\u001b[0m",
      "\u001b[1;31mTimeoutError\u001b[0m                              Traceback (most recent call last)",
      "File \u001b[1;32mc:\\Users\\ravik\\AppData\\Local\\Programs\\Python\\Python312\\Lib\\site-packages\\sqlitecloud\\driver.py:535\u001b[0m, in \u001b[0;36mDriver._internal_socket_read\u001b[1;34m(self, connection, main_socket)\u001b[0m\n\u001b[0;32m    534\u001b[0m \u001b[38;5;28;01mtry\u001b[39;00m:\n\u001b[1;32m--> 535\u001b[0m     data \u001b[38;5;241m=\u001b[39m \u001b[43msock\u001b[49m\u001b[38;5;241;43m.\u001b[39;49m\u001b[43mrecv\u001b[49m\u001b[43m(\u001b[49m\u001b[38;5;241;43m1\u001b[39;49m\u001b[43m)\u001b[49m\n\u001b[0;32m    536\u001b[0m     \u001b[38;5;28;01mif\u001b[39;00m \u001b[38;5;129;01mnot\u001b[39;00m data:\n",
      "File \u001b[1;32mc:\\Users\\ravik\\AppData\\Local\\Programs\\Python\\Python312\\Lib\\ssl.py:1234\u001b[0m, in \u001b[0;36mSSLSocket.recv\u001b[1;34m(self, buflen, flags)\u001b[0m\n\u001b[0;32m   1231\u001b[0m         \u001b[38;5;28;01mraise\u001b[39;00m \u001b[38;5;167;01mValueError\u001b[39;00m(\n\u001b[0;32m   1232\u001b[0m             \u001b[38;5;124m\"\u001b[39m\u001b[38;5;124mnon-zero flags not allowed in calls to recv() on \u001b[39m\u001b[38;5;132;01m%s\u001b[39;00m\u001b[38;5;124m\"\u001b[39m \u001b[38;5;241m%\u001b[39m\n\u001b[0;32m   1233\u001b[0m             \u001b[38;5;28mself\u001b[39m\u001b[38;5;241m.\u001b[39m\u001b[38;5;18m__class__\u001b[39m)\n\u001b[1;32m-> 1234\u001b[0m     \u001b[38;5;28;01mreturn\u001b[39;00m \u001b[38;5;28;43mself\u001b[39;49m\u001b[38;5;241;43m.\u001b[39;49m\u001b[43mread\u001b[49m\u001b[43m(\u001b[49m\u001b[43mbuflen\u001b[49m\u001b[43m)\u001b[49m\n\u001b[0;32m   1235\u001b[0m \u001b[38;5;28;01melse\u001b[39;00m:\n",
      "File \u001b[1;32mc:\\Users\\ravik\\AppData\\Local\\Programs\\Python\\Python312\\Lib\\ssl.py:1107\u001b[0m, in \u001b[0;36mSSLSocket.read\u001b[1;34m(self, len, buffer)\u001b[0m\n\u001b[0;32m   1106\u001b[0m     \u001b[38;5;28;01melse\u001b[39;00m:\n\u001b[1;32m-> 1107\u001b[0m         \u001b[38;5;28;01mreturn\u001b[39;00m \u001b[38;5;28;43mself\u001b[39;49m\u001b[38;5;241;43m.\u001b[39;49m\u001b[43m_sslobj\u001b[49m\u001b[38;5;241;43m.\u001b[39;49m\u001b[43mread\u001b[49m\u001b[43m(\u001b[49m\u001b[38;5;28;43mlen\u001b[39;49m\u001b[43m)\u001b[49m\n\u001b[0;32m   1108\u001b[0m \u001b[38;5;28;01mexcept\u001b[39;00m SSLError \u001b[38;5;28;01mas\u001b[39;00m x:\n",
      "\u001b[1;31mTimeoutError\u001b[0m: The read operation timed out",
      "\nThe above exception was the direct cause of the following exception:\n",
      "\u001b[1;31mSQLiteCloudException\u001b[0m                      Traceback (most recent call last)",
      "Cell \u001b[1;32mIn[1], line 40\u001b[0m\n\u001b[0;32m     33\u001b[0m     insert_query \u001b[38;5;241m=\u001b[39m \u001b[38;5;124m'''\u001b[39m\n\u001b[0;32m     34\u001b[0m \u001b[38;5;124m    INSERT INTO fintech_data (Loan_ID, Customer_ID, Loan_Amount, Interest_Rate, Loan_Type, \u001b[39m\n\u001b[0;32m     35\u001b[0m \u001b[38;5;124m                              Approval_Date, Due_Date, Loan_Status, Credit_Score, \u001b[39m\n\u001b[0;32m     36\u001b[0m \u001b[38;5;124m                              Default_Prediction, Region, Monthly_Repayment_Amount) \u001b[39m\n\u001b[0;32m     37\u001b[0m \u001b[38;5;124m    VALUES (?, ?, ?, ?, ?, ?, ?, ?, ?, ?, ?, ?);\u001b[39m\n\u001b[0;32m     38\u001b[0m \u001b[38;5;124m    \u001b[39m\u001b[38;5;124m'''\u001b[39m\n\u001b[0;32m     39\u001b[0m     \u001b[38;5;66;03m# Use row.values to insert the row data as a tuple\u001b[39;00m\n\u001b[1;32m---> 40\u001b[0m     \u001b[43mcursor\u001b[49m\u001b[38;5;241;43m.\u001b[39;49m\u001b[43mexecute\u001b[49m\u001b[43m(\u001b[49m\u001b[43minsert_query\u001b[49m\u001b[43m,\u001b[49m\u001b[43m \u001b[49m\u001b[38;5;28;43mtuple\u001b[39;49m\u001b[43m(\u001b[49m\u001b[43mrow\u001b[49m\u001b[43m)\u001b[49m\u001b[43m)\u001b[49m\n\u001b[0;32m     42\u001b[0m \u001b[38;5;66;03m# Step 5: Commit the transaction and close the connection\u001b[39;00m\n\u001b[0;32m     43\u001b[0m sqliteConnection\u001b[38;5;241m.\u001b[39mcommit()\n",
      "File \u001b[1;32mc:\\Users\\ravik\\AppData\\Local\\Programs\\Python\\Python312\\Lib\\site-packages\\sqlitecloud\\dbapi2.py:583\u001b[0m, in \u001b[0;36mCursor.execute\u001b[1;34m(self, sql, parameters)\u001b[0m\n\u001b[0;32m    580\u001b[0m \u001b[38;5;28;01mif\u001b[39;00m \u001b[38;5;28misinstance\u001b[39m(parameters, \u001b[38;5;28mdict\u001b[39m):\n\u001b[0;32m    581\u001b[0m     parameters \u001b[38;5;241m=\u001b[39m \u001b[38;5;28mself\u001b[39m\u001b[38;5;241m.\u001b[39m_named_to_question_mark_parameters(sql, parameters)\n\u001b[1;32m--> 583\u001b[0m result \u001b[38;5;241m=\u001b[39m \u001b[38;5;28;43mself\u001b[39;49m\u001b[38;5;241;43m.\u001b[39;49m\u001b[43m_driver\u001b[49m\u001b[38;5;241;43m.\u001b[39;49m\u001b[43mexecute_statement\u001b[49m\u001b[43m(\u001b[49m\n\u001b[0;32m    584\u001b[0m \u001b[43m    \u001b[49m\u001b[43msql\u001b[49m\u001b[43m,\u001b[49m\u001b[43m \u001b[49m\u001b[43mparameters\u001b[49m\u001b[43m,\u001b[49m\u001b[43m \u001b[49m\u001b[38;5;28;43mself\u001b[39;49m\u001b[38;5;241;43m.\u001b[39;49m\u001b[43mconnection\u001b[49m\u001b[38;5;241;43m.\u001b[39;49m\u001b[43msqlitecloud_connection\u001b[49m\n\u001b[0;32m    585\u001b[0m \u001b[43m\u001b[49m\u001b[43m)\u001b[49m\n\u001b[0;32m    587\u001b[0m \u001b[38;5;28mself\u001b[39m\u001b[38;5;241m.\u001b[39m_resultset \u001b[38;5;241m=\u001b[39m \u001b[38;5;28;01mNone\u001b[39;00m\n\u001b[0;32m    588\u001b[0m \u001b[38;5;28mself\u001b[39m\u001b[38;5;241m.\u001b[39m_result_operation \u001b[38;5;241m=\u001b[39m \u001b[38;5;28;01mNone\u001b[39;00m\n",
      "File \u001b[1;32mc:\\Users\\ravik\\AppData\\Local\\Programs\\Python\\Python312\\Lib\\site-packages\\sqlitecloud\\driver.py:109\u001b[0m, in \u001b[0;36mDriver.execute_statement\u001b[1;34m(self, query, bindings, connection)\u001b[0m\n\u001b[0;32m    101\u001b[0m \u001b[38;5;250m\u001b[39m\u001b[38;5;124;03m\"\"\"\u001b[39;00m\n\u001b[0;32m    102\u001b[0m \u001b[38;5;124;03mExecute the statement on the SQLite Cloud server.\u001b[39;00m\n\u001b[0;32m    103\u001b[0m \u001b[38;5;124;03mIt supports only the `qmark` style for parameter binding.\u001b[39;00m\n\u001b[0;32m    104\u001b[0m \u001b[38;5;124;03m\"\"\"\u001b[39;00m\n\u001b[0;32m    105\u001b[0m command \u001b[38;5;241m=\u001b[39m \u001b[38;5;28mself\u001b[39m\u001b[38;5;241m.\u001b[39m_internal_serialize_command(\n\u001b[0;32m    106\u001b[0m     [query] \u001b[38;5;241m+\u001b[39m \u001b[38;5;28mlist\u001b[39m(bindings), zero_string\u001b[38;5;241m=\u001b[39m\u001b[38;5;28;01mTrue\u001b[39;00m\n\u001b[0;32m    107\u001b[0m )\n\u001b[1;32m--> 109\u001b[0m result \u001b[38;5;241m=\u001b[39m \u001b[38;5;28;43mself\u001b[39;49m\u001b[38;5;241;43m.\u001b[39;49m\u001b[43m_internal_run_command\u001b[49m\u001b[43m(\u001b[49m\u001b[43mconnection\u001b[49m\u001b[43m,\u001b[49m\u001b[43m \u001b[49m\u001b[43mcommand\u001b[49m\u001b[43m)\u001b[49m\n\u001b[0;32m    111\u001b[0m \u001b[38;5;28;01mif\u001b[39;00m result\u001b[38;5;241m.\u001b[39mtag \u001b[38;5;241m!=\u001b[39m SQLITECLOUD_RESULT_TYPE\u001b[38;5;241m.\u001b[39mRESULT_ARRAY:\n\u001b[0;32m    112\u001b[0m     \u001b[38;5;28;01mreturn\u001b[39;00m result\n",
      "File \u001b[1;32mc:\\Users\\ravik\\AppData\\Local\\Programs\\Python\\Python312\\Lib\\site-packages\\sqlitecloud\\driver.py:482\u001b[0m, in \u001b[0;36mDriver._internal_run_command\u001b[1;34m(self, connection, command, main_socket)\u001b[0m\n\u001b[0;32m    476\u001b[0m     \u001b[38;5;28;01mraise\u001b[39;00m SQLiteCloudException(\n\u001b[0;32m    477\u001b[0m         \u001b[38;5;124m\"\u001b[39m\u001b[38;5;124mThe connection is closed.\u001b[39m\u001b[38;5;124m\"\u001b[39m,\n\u001b[0;32m    478\u001b[0m         SQLITECLOUD_INTERNAL_ERRCODE\u001b[38;5;241m.\u001b[39mNETWORK,\n\u001b[0;32m    479\u001b[0m     )\n\u001b[0;32m    481\u001b[0m \u001b[38;5;28mself\u001b[39m\u001b[38;5;241m.\u001b[39m_internal_socket_write(connection, command, main_socket)\n\u001b[1;32m--> 482\u001b[0m \u001b[38;5;28;01mreturn\u001b[39;00m \u001b[38;5;28;43mself\u001b[39;49m\u001b[38;5;241;43m.\u001b[39;49m\u001b[43m_internal_socket_read\u001b[49m\u001b[43m(\u001b[49m\u001b[43mconnection\u001b[49m\u001b[43m,\u001b[49m\u001b[43m \u001b[49m\u001b[43mmain_socket\u001b[49m\u001b[43m)\u001b[49m\n",
      "File \u001b[1;32mc:\\Users\\ravik\\AppData\\Local\\Programs\\Python\\Python312\\Lib\\site-packages\\sqlitecloud\\driver.py:541\u001b[0m, in \u001b[0;36mDriver._internal_socket_read\u001b[1;34m(self, connection, main_socket)\u001b[0m\n\u001b[0;32m    537\u001b[0m         \u001b[38;5;28;01mraise\u001b[39;00m SQLiteCloudException(\n\u001b[0;32m    538\u001b[0m             \u001b[38;5;124m\"\u001b[39m\u001b[38;5;124mIncomplete response from server. Cannot read the command length.\u001b[39m\u001b[38;5;124m\"\u001b[39m\n\u001b[0;32m    539\u001b[0m         )\n\u001b[0;32m    540\u001b[0m \u001b[38;5;28;01mexcept\u001b[39;00m \u001b[38;5;167;01mException\u001b[39;00m \u001b[38;5;28;01mas\u001b[39;00m exc:\n\u001b[1;32m--> 541\u001b[0m     \u001b[38;5;28;01mraise\u001b[39;00m SQLiteCloudException(\n\u001b[0;32m    542\u001b[0m         \u001b[38;5;124m\"\u001b[39m\u001b[38;5;124mAn error occurred while reading command length from the socket.\u001b[39m\u001b[38;5;124m\"\u001b[39m,\n\u001b[0;32m    543\u001b[0m         SQLITECLOUD_INTERNAL_ERRCODE\u001b[38;5;241m.\u001b[39mNETWORK,\n\u001b[0;32m    544\u001b[0m     ) \u001b[38;5;28;01mfrom\u001b[39;00m \u001b[38;5;21;01mexc\u001b[39;00m\n\u001b[0;32m    546\u001b[0m nread \u001b[38;5;241m+\u001b[39m\u001b[38;5;241m=\u001b[39m \u001b[38;5;28mlen\u001b[39m(data)\n\u001b[0;32m    547\u001b[0m buffer \u001b[38;5;241m+\u001b[39m\u001b[38;5;241m=\u001b[39m data\n",
      "\u001b[1;31mSQLiteCloudException\u001b[0m: An error occurred while reading command length from the socket."
     ]
    }
   ],
   "source": [
    "import pandas as pd\n",
    "import sqlitecloud\n",
    "\n",
    "# Step 1: Read the CSV into a pandas DataFrame\n",
    "df = pd.read_csv(r'D:\\Work Experience\\DataTalk\\Django-backend\\datatalkai-assistant\\datatalkai-assistant\\csvs\\fintech_data.csv')\n",
    "\n",
    "# Step 2: Connect to SQLiteCloud\n",
    "sqliteConnection = sqlitecloud.connect(\"sqlitecloud://ctqws9lknk.sqlite.cloud:8860/db.sqlite?apikey=1TBBTbRsWbzMtiEoz7MA2VQ7b0TL6JD2ZJysGFXiXpI\")\n",
    "cursor = sqliteConnection.cursor()\n",
    "\n",
    "# Step 3: Create a table that matches your CSV structure\n",
    "create_table_query = '''\n",
    "CREATE TABLE IF NOT EXISTS fintech_data (\n",
    "    Loan_ID TEXT,\n",
    "    Customer_ID TEXT,\n",
    "    Loan_Amount REAL,\n",
    "    Interest_Rate REAL,\n",
    "    Loan_Type TEXT,\n",
    "    Approval_Date TEXT,\n",
    "    Due_Date TEXT,\n",
    "    Loan_Status TEXT,\n",
    "    Credit_Score INTEGER,\n",
    "    Default_Prediction INTEGER,\n",
    "    Region TEXT,\n",
    "    Monthly_Repayment_Amount REAL\n",
    ");\n",
    "'''\n",
    "cursor.execute(create_table_query)\n",
    "sqliteConnection.commit()\n",
    "\n",
    "# Step 4: Upload the data row by row into the database\n",
    "for index, row in df.iterrows():\n",
    "    insert_query = '''\n",
    "    INSERT INTO fintech_data (Loan_ID, Customer_ID, Loan_Amount, Interest_Rate, Loan_Type, \n",
    "                              Approval_Date, Due_Date, Loan_Status, Credit_Score, \n",
    "                              Default_Prediction, Region, Monthly_Repayment_Amount) \n",
    "    VALUES (?, ?, ?, ?, ?, ?, ?, ?, ?, ?, ?, ?);\n",
    "    '''\n",
    "    # Use row.values to insert the row data as a tuple\n",
    "    cursor.execute(insert_query, tuple(row))\n",
    "\n",
    "# Step 5: Commit the transaction and close the connection\n",
    "sqliteConnection.commit()\n",
    "cursor.close()\n",
    "sqliteConnection.close()\n",
    "\n",
    "print(\"CSV data uploaded successfully!\")\n"
   ]
  }
 ],
 "metadata": {
  "kernelspec": {
   "display_name": "Python 3",
   "language": "python",
   "name": "python3"
  },
  "language_info": {
   "codemirror_mode": {
    "name": "ipython",
    "version": 3
   },
   "file_extension": ".py",
   "mimetype": "text/x-python",
   "name": "python",
   "nbconvert_exporter": "python",
   "pygments_lexer": "ipython3",
   "version": "3.12.0"
  }
 },
 "nbformat": 4,
 "nbformat_minor": 2
}
